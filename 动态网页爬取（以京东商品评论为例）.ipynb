{
 "cells": [
  {
   "cell_type": "markdown",
   "id": "752fa454",
   "metadata": {
    "slideshow": {
     "slide_type": "slide"
    }
   },
   "source": [
    "# 准备知识"
   ]
  },
  {
   "cell_type": "markdown",
   "id": "15d6440b",
   "metadata": {},
   "source": [
    "1. 动态网页的**```爬取思路```**与静态网页**```基本一致```**"
   ]
  },
  {
   "cell_type": "markdown",
   "id": "d882ed58",
   "metadata": {},
   "source": [
    "|**步骤**|任务|说明|方法|\n",
    "|:----:|:----:|:-----|:----:|\n",
    "|**1**|**生成网址**|分析**<mark>网址规律</mark>**，批量生成网址|for循环，format函数|\n",
    "|2|请求+获取网页数据|模拟人工打开网页，并将网页存储为数据对象|requests包|\n",
    "|**3**|**解析数据**|分析数据规律，整理出所需字段|pyquery包，**<mark>json包</mark>**<br>（还有lxml和beautifulsoup4）|\n",
    "|4|存储数据|使用csv包将数据存储到csv文件中|csv包|\n",
    "|5|批量爬取|对所有网址循环步骤2-4|for循环|"
   ]
  },
  {
   "cell_type": "markdown",
   "id": "4c872e4e",
   "metadata": {},
   "source": [
    "2. **```动态与静态的区别```**\n",
    "- （1）<u>网址规律</u>：\n",
    "    - 翻页时，动态网页的**<mark>网址不变化</mark>**\n",
    "    - 无法在网页源代码直接看到内容<br>\n",
    "<br>\n",
    "- （2）<u>解析数据</u>：\n",
    "    - 不是网页源代码的字符串html，而是**<mark>字典列表json</mark>**"
   ]
  },
  {
   "cell_type": "markdown",
   "id": "76fb816c",
   "metadata": {},
   "source": [
    "# 生成网址"
   ]
  },
  {
   "cell_type": "markdown",
   "id": "324aa153",
   "metadata": {},
   "source": [
    "## 分析网址规律"
   ]
  },
  {
   "cell_type": "markdown",
   "id": "22c392d6",
   "metadata": {},
   "source": [
    "1. **```任务对象```**：\n",
    "    - https://item.jd.com/100002781562.html#comment<br>\n",
    "<br>\n",
    "<br>\n",
    "2. **```基本情况```**：\n",
    "    - 不论怎么翻页，**<u>```网址都没有变化```</u>**\n",
    "    - 每页10个评论，最多翻到100页"
   ]
  },
  {
   "cell_type": "markdown",
   "id": "31186ccb",
   "metadata": {},
   "source": [
    "3. **```原因分析及应对```**：\n",
    "    - 真正的数据存在别的网址中，当我们点击对应的页数时，它才被“调用”，然后显示在我们的浏览器界面中\n",
    "    - **<u>```用开发者工具中的network，观察翻页时文件的变化，找到存储“评论”的文件，再查看headers中的request url，这就是真正的数据网址。```</u>**（确认评论数据存储在request url中）"
   ]
  },
  {
   "cell_type": "markdown",
   "id": "7c04e5cd",
   "metadata": {},
   "source": [
    "4. **```观察规律```**：\n",
    "- **<u>```原网址```</u>**：\n",
    "    * https://api.m.jd.com/?appid=item-v3&functionId=pc_club_productPageComments&client=pc&clientVersion=1.0.0&t=1691385196787&loginType=3&uuid=122270672.16913846884751013594747.1691384688.1691384688.1691384688.1&productId=100002781562&score=0&sortType=5&page=0&pageSize=10&isShadowSku=0&rid=0&fold=1&bbtf=&shield=\n",
    "    * https://api.m.jd.com/?appid=item-v3&functionId=pc_club_productPageComments&client=pc&clientVersion=1.0.0&t=1691385196787&loginType=3&uuid=122270672.16913846884751013594747.1691384688.1691384688.1691384688.1&productId=100002781562&score=0&sortType=5&page=1&pageSize=10&isShadowSku=0&rid=0&fold=1&bbtf=&shield=\n",
    "    * https://api.m.jd.com/?appid=item-v3&functionId=pc_club_productPageComments&client=pc&clientVersion=1.0.0&t=1691385196787&loginType=3&uuid=122270672.16913846884751013594747.1691384688.1691384688.1691384688.1&productId=100002781562&score=0&sortType=5&page=2&pageSize=10&isShadowSku=0&rid=0&fold=1&bbtf=&shield=\n",
    "    * ……\n",
    "    * https://api.m.jd.com/?appid=item-v3&functionId=pc_club_productPageComments&client=pc&clientVersion=1.0.0&t=1691385196787&loginType=3&uuid=122270672.16913846884751013594747.1691384688.1691384688.1691384688.1&productId=100002781562&score=0&sortType=5&page=98&pageSize=10&isShadowSku=0&rid=0&fold=1&bbtf=&shield=\n",
    "    * https://api.m.jd.com/?appid=item-v3&functionId=pc_club_productPageComments&client=pc&clientVersion=1.0.0&t=1691385196787&loginType=3&uuid=122270672.16913846884751013594747.1691384688.1691384688.1691384688.1&productId=100002781562&score=0&sortType=5&page=99&pageSize=10&isShadowSku=0&rid=0&fold=1&bbtf=&shield=<br>\n",
    "<br>\n",
    "- **<u>```总结规律```</u>**：\n",
    "    * 第1页，page为0\n",
    "    * 第2页，page为1\n",
    "    * 第3页，page为2\n",
    "    * ……\n",
    "    * 第99页，page为98\n",
    "    * 第100页，page为99\n",
    "<br>\n",
    "<br>\n",
    "    * <mark><big>第p页，page为(p-1)</big></mark>"
   ]
  },
  {
   "cell_type": "markdown",
   "id": "4e0a3cbc",
   "metadata": {},
   "source": [
    "## 批量生成网址"
   ]
  },
  {
   "cell_type": "code",
   "execution_count": null,
   "id": "1996c048",
   "metadata": {
    "ExecuteTime": {
     "end_time": "2023-08-08T16:54:10.064271Z",
     "start_time": "2023-08-08T16:54:10.056256Z"
    }
   },
   "outputs": [],
   "source": [
    "# 每个商品有自己的唯一id，例如100002781562、1540112、10080196292423等\n",
    "product_id = '100002781562'\n",
    "\n",
    "# format函数设置product_id和page\n",
    "template = 'https://api.m.jd.com/?appid=item-v3&functionId=pc_club_productPageComments&client=pc&clientVersion=1.0.0&t=1691385196787&loginType=3&uuid=122270672.16913846884751013594747.1691384688.1691384688.1691384688.1&productId={product_id}&score=0&sortType=5&page={page}&pageSize=10&isShadowSku=0&rid=0&fold=1&bbtf=&shield='\n",
    "\n",
    "# 循环生成网址，并存入网址列表中\n",
    "url_list = []\n",
    "for p in range(1,101):\n",
    "    url = template.format(product_id = product_id, page=(p-1))   # 分别填入product_id和page\n",
    "    url_list.append(url)"
   ]
  },
  {
   "cell_type": "code",
   "execution_count": null,
   "id": "74765ff3",
   "metadata": {
    "ExecuteTime": {
     "end_time": "2023-08-08T16:54:11.543787Z",
     "start_time": "2023-08-08T16:54:11.528146Z"
    }
   },
   "outputs": [],
   "source": [
    "# 查看url_list情况（获得10页的网址）\n",
    "url_list"
   ]
  },
  {
   "cell_type": "code",
   "execution_count": null,
   "id": "162aa50e",
   "metadata": {
    "ExecuteTime": {
     "end_time": "2023-08-08T16:54:15.396374Z",
     "start_time": "2023-08-08T16:54:15.390097Z"
    }
   },
   "outputs": [],
   "source": [
    "# 函数：生成网址  generate_url_list(product_id, max_page)\n",
    "# 参数说明：product_id为商品id，max_page为最大页数\n",
    "# 返回值：url_list为网址列表\n",
    "def generate_url_list(product_id, max_page):\n",
    "    url_list = []\n",
    "    template = 'https://api.m.jd.com/?appid=item-v3&functionId=pc_club_productPageComments&client=pc&clientVersion=1.0.0&t=1691385196787&loginType=3&uuid=122270672.16913846884751013594747.1691384688.1691384688.1691384688.1&productId={product_id}&score=0&sortType=5&page={page}&pageSize=10&isShadowSku=0&rid=0&fold=1&bbtf=&shield='\n",
    "    for p in range(1,max_page+1):        # range取1到100，即p循环1到100页\n",
    "        url = template.format(product_id = product_id, page=(p-1))\n",
    "        url_list.append(url)\n",
    "    return url_list"
   ]
  },
  {
   "cell_type": "code",
   "execution_count": null,
   "id": "20abb4b8",
   "metadata": {
    "ExecuteTime": {
     "end_time": "2023-08-08T16:54:16.618484Z",
     "start_time": "2023-08-08T16:54:16.612674Z"
    }
   },
   "outputs": [],
   "source": [
    "# 调用函数  generate_url_list(product_id, max_page)\n",
    "url_list_tmp1 = generate_url_list(product_id=100002781562, max_page=5)\n",
    "url_list_tmp2 = generate_url_list(product_id=1540112, max_page=10)\n",
    "\n",
    "print('商品id为100002781562的5条数据网址：',url_list_tmp1,'\\n')\n",
    "print('商品id为1540112的10条数据网址：',url_list_tmp2)"
   ]
  },
  {
   "cell_type": "markdown",
   "id": "b47b0085",
   "metadata": {},
   "source": [
    "# 请求+获取网页数据"
   ]
  },
  {
   "cell_type": "markdown",
   "id": "e1f31bc7",
   "metadata": {},
   "source": [
    "- 以第1页为例，来请求并获取网页数据\n",
    "- 例子：https://api.m.jd.com/?appid=item-v3&functionId=pc_club_productPageComments&client=pc&clientVersion=1.0.0&t=1691385196787&loginType=3&uuid=122270672.16913846884751013594747.1691384688.1691384688.1691384688.1&productId=100002781562&score=0&sortType=5&page=0&pageSize=10&isShadowSku=0&rid=0&fold=1&bbtf=&shield="
   ]
  },
  {
   "cell_type": "code",
   "execution_count": null,
   "id": "779043a0",
   "metadata": {
    "ExecuteTime": {
     "end_time": "2023-08-08T16:54:20.432975Z",
     "start_time": "2023-08-08T16:54:20.093210Z"
    }
   },
   "outputs": [],
   "source": [
    "import requests   # 导入requests包\n",
    "\n",
    "url = 'https://api.m.jd.com/?appid=item-v3&functionId=pc_club_productPageComments&client=pc&clientVersion=1.0.0&t=1691385196787&loginType=3&uuid=122270672.16913846884751013594747.1691384688.1691384688.1691384688.1&productId=100002781562&score=0&sortType=5&page=0&pageSize=10&isShadowSku=0&rid=0&fold=1&bbtf=&shield='\n",
    "resp = requests.get(url)   # 用get向服务器请求获取数据\n",
    "resp # 查看状态码，2开头代表访问成功，4开头代表不成功"
   ]
  },
  {
   "cell_type": "code",
   "execution_count": null,
   "id": "5f461a41",
   "metadata": {
    "ExecuteTime": {
     "end_time": "2023-08-08T16:54:21.745867Z",
     "start_time": "2023-08-08T16:54:21.739145Z"
    }
   },
   "outputs": [],
   "source": [
    "resp.text   # 查看返回内容"
   ]
  },
  {
   "cell_type": "code",
   "execution_count": null,
   "id": "81f69948",
   "metadata": {
    "ExecuteTime": {
     "end_time": "2023-08-08T16:54:24.080628Z",
     "start_time": "2023-08-08T16:54:24.073620Z"
    }
   },
   "outputs": [],
   "source": [
    "raw_comments = resp.text  # 将内容放入raw_comments中，类型为str\n",
    "type(raw_comments)"
   ]
  },
  {
   "cell_type": "code",
   "execution_count": null,
   "id": "bc4a6107",
   "metadata": {
    "ExecuteTime": {
     "end_time": "2023-08-08T16:54:25.477139Z",
     "start_time": "2023-08-08T16:54:25.472627Z"
    }
   },
   "outputs": [],
   "source": [
    "# 函数：获得json  get_json(url)\n",
    "# 参数说明：url为单个网址\n",
    "# 返回值：raw_comments为原始的评论数据\n",
    "def get_json(url):\n",
    "    resp = requests.get(url)\n",
    "    raw_comments = resp.text\n",
    "    return raw_comments"
   ]
  },
  {
   "cell_type": "code",
   "execution_count": null,
   "id": "30562eb2",
   "metadata": {
    "ExecuteTime": {
     "end_time": "2023-08-08T16:54:26.603292Z",
     "start_time": "2023-08-08T16:54:26.393321Z"
    }
   },
   "outputs": [],
   "source": [
    "# 调用函数  get_json(url) 以第8页为例\n",
    "url_tmp = 'https://api.m.jd.com/?appid=item-v3&functionId=pc_club_productPageComments&client=pc&clientVersion=1.0.0&t=1691385196787&loginType=3&uuid=122270672.16913846884751013594747.1691384688.1691384688.1691384688.1&productId=100002781562&score=0&sortType=5&page=7&pageSize=10&isShadowSku=0&rid=0&fold=1&bbtf=&shield='  # 第8页\n",
    "raw_comments_tmp = get_json(url_tmp)\n",
    "raw_comments_tmp"
   ]
  },
  {
   "cell_type": "markdown",
   "id": "b77e6ca1",
   "metadata": {},
   "source": [
    "# 解析数据"
   ]
  },
  {
   "cell_type": "markdown",
   "id": "dd3d6cea",
   "metadata": {},
   "source": [
    "观察raw_comments数据结构\n",
    "- https://api.m.jd.com/?appid=item-v3&functionId=pc_club_productPageComments&client=pc&clientVersion=1.0.0&t=1691385196787&loginType=3&uuid=122270672.16913846884751013594747.1691384688.1691384688.1691384688.1&productId=100002781562&score=0&sortType=5&page=0&pageSize=10&isShadowSku=0&rid=0&fold=1&bbtf=&shield='\n",
    "1. comments里有多个字典，每一个字典对应一个用户评论\n",
    "2. key：content内容、creationTime时间、plusAvailable会员身份、nickname用户名、score评分、usefulVoteCount点赞数、replyCount回复数、productColor颜色、productSize尺码等"
   ]
  },
  {
   "cell_type": "code",
   "execution_count": null,
   "id": "92d44019",
   "metadata": {
    "ExecuteTime": {
     "end_time": "2023-08-08T16:54:29.530671Z",
     "start_time": "2023-08-08T16:54:29.497905Z"
    }
   },
   "outputs": [],
   "source": [
    "import json\n",
    "\n",
    "json.loads(raw_comments)   # 如果raw_comments是字典列表，那么能正常loads；如果【不是规范的字典列表】，那么会报错"
   ]
  },
  {
   "cell_type": "code",
   "execution_count": null,
   "id": "3e061c5a",
   "metadata": {},
   "outputs": [],
   "source": [
    "type(json.loads(raw_comments))"
   ]
  },
  {
   "cell_type": "code",
   "execution_count": null,
   "id": "45f9aebc",
   "metadata": {
    "ExecuteTime": {
     "end_time": "2023-08-08T16:54:31.096054Z",
     "start_time": "2023-08-08T16:54:31.065266Z"
    }
   },
   "outputs": [],
   "source": [
    "comments = json.loads(raw_comments)['comments']   # 取comments键的值，并存入comments对象中\n",
    "comments"
   ]
  },
  {
   "cell_type": "code",
   "execution_count": null,
   "id": "1f3f0d4e",
   "metadata": {
    "ExecuteTime": {
     "end_time": "2023-08-08T16:54:32.430981Z",
     "start_time": "2023-08-08T16:54:32.423469Z"
    }
   },
   "outputs": [],
   "source": [
    "# comments为字典列表，每一个字典是一条用户评论\n",
    "comments[0].keys() # 查看字典的key"
   ]
  },
  {
   "cell_type": "markdown",
   "id": "e6c066c0",
   "metadata": {},
   "source": [
    "- 我们只取其中的content内容、creationTime时间、plusAvailable会员身份、nickname用户名、score评分、usefulVoteCount点赞数、replyCount回复数、productColor颜色、productSize尺码等"
   ]
  },
  {
   "cell_type": "code",
   "execution_count": null,
   "id": "4f53197c",
   "metadata": {
    "ExecuteTime": {
     "end_time": "2023-08-08T16:54:34.099835Z",
     "start_time": "2023-08-08T16:54:34.090845Z"
    }
   },
   "outputs": [],
   "source": [
    "data_list = []                               # data_list为空列表，用于存储评论信息\n",
    "\n",
    "for comment in comments:\n",
    "    data = {}                                # data为空字典\n",
    "    \n",
    "    data['content']=comment['content']   # 取content键的值，放入data中的content键值对\n",
    "    data['creationTime']=comment.get('creationTime')\n",
    "    data['nickname']=comment.get('nickname')\n",
    "    data['plusAvailable']=comment.get('plusAvailable')\n",
    "    data['score']=comment.get('score')\n",
    "    data['usefulVoteCount']=comment.get('usefulVoteCount')\n",
    "    data['replyCount']=comment.get('replyCount')\n",
    "    data['productColor']=comment.get('productColor')\n",
    "    data['productSize']=comment.get('productSize')\n",
    "    \n",
    "    data_list.append(data)\n",
    "\n",
    "print(data_list)\n",
    "print(len(data_list))"
   ]
  },
  {
   "cell_type": "code",
   "execution_count": null,
   "id": "3a73882c",
   "metadata": {
    "ExecuteTime": {
     "end_time": "2023-08-08T16:54:36.288209Z",
     "start_time": "2023-08-08T16:54:36.281236Z"
    }
   },
   "outputs": [],
   "source": [
    "# 函数：解析数据  extract_comments(raw_comments)\n",
    "# 参数说明：raw_comments为初始的评论列表\n",
    "# 返回值：data_list为整理后的评论列表\n",
    "def extract_comments(raw_comments):\n",
    "    data_list = []\n",
    "    \n",
    "    comments = json.loads(raw_comments)['comments']   \n",
    "    \n",
    "    for comment in comments:    # 将一条条评论写入data_list中\n",
    "        data = {}\n",
    "        data['content']=comment.get('content')\n",
    "        data['creationTime']=comment.get('creationTime')\n",
    "        data['nickname']=comment.get('nickname')\n",
    "        data['plusAvailable']=comment.get('plusAvailable')\n",
    "        data['score']=comment.get('score')\n",
    "        data['usefulVoteCount']=comment.get('usefulVoteCount')\n",
    "        data['replyCount']=comment.get('replyCount')\n",
    "        data['productColor']=comment.get('productColor')\n",
    "        data['productSize']=comment.get('productSize')\n",
    "        data_list.append(data)\n",
    "    \n",
    "    return data_list    "
   ]
  },
  {
   "cell_type": "code",
   "execution_count": null,
   "id": "c21f45dd",
   "metadata": {
    "ExecuteTime": {
     "end_time": "2023-08-08T16:54:37.513748Z",
     "start_time": "2023-08-08T16:54:37.507768Z"
    }
   },
   "outputs": [],
   "source": [
    "# 调用函数   extract_comments(raw_comments)\n",
    "comments = extract_comments(raw_comments)\n",
    "print(data_list)\n",
    "print('评论数量为：', len(data_list))"
   ]
  },
  {
   "cell_type": "markdown",
   "id": "41f2b213",
   "metadata": {},
   "source": [
    "# 存储数据"
   ]
  },
  {
   "cell_type": "code",
   "execution_count": null,
   "id": "b2088b8e",
   "metadata": {
    "ExecuteTime": {
     "end_time": "2023-08-08T16:54:40.057609Z",
     "start_time": "2023-08-08T16:54:40.039105Z"
    }
   },
   "outputs": [],
   "source": [
    "import csv     # 导入csv包\n",
    "\n",
    "# 打开文件\n",
    "file = open('umbrella_100002781562.csv', 'a+', encoding='utf-8-sig', newline='') # 文件名为umbrella_100002781562.csv，模式为a+，如果已有文件，在末尾追加，如果没，则生成新文件；编码为utf-8，需要区分换行符\n",
    "fieldnames = ['content', 'creationTime', 'nickname', 'plusAvailable', 'score', 'usefulVoteCount', 'replyCount', 'productColor', 'productSize']  # 设置标题行fieldnames\n",
    "writer = csv.DictWriter(file, fieldnames=fieldnames)    # 要求以字典的形式写入数据，fieldnames注明字典中键的名称，也就是评论内容、时间、用户名等\n",
    "writer.writeheader()  # 将fieldnames设置的标题key写入首行\n",
    "\n",
    "# 循环写入字典列表：因为有多条评论，需要一行行写入\n",
    "for data in data_list:\n",
    "    writer.writerow(data)  # 写入一行评论数据\n",
    "    \n",
    "file.close() # 关闭文件"
   ]
  },
  {
   "cell_type": "markdown",
   "id": "2530da2a",
   "metadata": {},
   "source": [
    "# 批量爬取"
   ]
  },
  {
   "cell_type": "markdown",
   "id": "9e9c4e4d",
   "metadata": {},
   "source": [
    "<b><mark>下面对所有网址url_list循环步骤2-4</mark><b>"
   ]
  },
  {
   "cell_type": "markdown",
   "id": "8c9bda18",
   "metadata": {},
   "source": [
    "|**步骤**|任务|函数|输入参数|返回值|\n",
    "|:----:|:-----|:-----|:-----|:-----|\n",
    "|1|生成网址|generate_url_list(product_id, max_page)|product_id为商品id，max_page为最大页数|url_list网址列表|\n",
    "|**2**|**请求+获取网页数据**|get_json(url)|单个网址|raw_comments原始的评论数据|\n",
    "|**3**|**解析数据**|extract_comments(raw_comments)|（单个网址）raw_comments原始的评论数据|data_list评论的字典列表|\n",
    "|**4**|**存储数据**|--|--|--|\n",
    "|5|批量爬取|--|--|--|"
   ]
  },
  {
   "cell_type": "markdown",
   "id": "6b0f3231",
   "metadata": {},
   "source": [
    "<br>\n",
    "<b>与静态网页思路一致，直接写主函数<b>"
   ]
  },
  {
   "cell_type": "markdown",
   "id": "fe8c975a",
   "metadata": {},
   "source": [
    "写主函数前，还有个**```time知识点```**\n",
    "- 如果我们访问速度过快，也可能会被服务器反爬，如果我们**```间隔一段时间```**再访问，则能降低被反爬的概率"
   ]
  },
  {
   "cell_type": "code",
   "execution_count": null,
   "id": "8a9cb020",
   "metadata": {
    "ExecuteTime": {
     "end_time": "2023-08-08T16:54:54.221274Z",
     "start_time": "2023-08-08T16:54:51.716761Z"
    }
   },
   "outputs": [],
   "source": [
    "import time\n",
    "import random\n",
    "\n",
    "#random()随机返回[0,1)范围内的实数\n",
    "print(random.random()*3)\n",
    "\n",
    "# 休息对应的时间\n",
    "time.sleep(random.random()*3)"
   ]
  },
  {
   "cell_type": "code",
   "execution_count": null,
   "id": "1958e0c7",
   "metadata": {
    "ExecuteTime": {
     "end_time": "2023-08-08T16:55:05.293095Z",
     "start_time": "2023-08-08T16:55:05.283528Z"
    }
   },
   "outputs": [],
   "source": [
    "# 函数：爬虫主函数  main(product_id, max_page, filename)\n",
    "# 参数说明：product_id为商品id，max_page为最大页数，filename为文件名称\n",
    "# 仅执行命令，不返回任何值\n",
    "def main(product_id, max_page, filename):      \n",
    "    print('开始采集商品id为{product_id}的商品评论！'.format(product_id = product_id))        \n",
    "    \n",
    "    # 生成所有网址url_list\n",
    "    url_list = generate_url_list(product_id, max_page)   \n",
    "    \n",
    "    # 打开文件\n",
    "    file = open(filename, 'a+', encoding='utf-8-sig', newline='')  \n",
    "    fieldnames = ['content', 'creationTime', 'nickname', 'plusAvailable', 'score', 'usefulVoteCount', 'replyCount', 'productColor', 'productSize']\n",
    "    writer = csv.DictWriter(file, fieldnames=fieldnames)    \n",
    "    writer.writeheader() \n",
    "\n",
    "    # 对所有网址url_list循环步骤2-4\n",
    "    for url in url_list:\n",
    "        print('正在采集：{url}'.format(url=url))\n",
    "        raw_comments = get_json(url)                        # 【步骤2：请求+获取网页数据】\n",
    "        time.sleep(random.random()*3)                  # 间隔不定长时间\n",
    "        data_list = extract_comments(raw_comments) # 【步骤3：解析数据】\n",
    "        for data in data_list:              # 【步骤4：存储数据】\n",
    "            writer.writerow(data)\n",
    "\n",
    "    file.close()\n",
    "\n",
    "    print('采集完毕！')"
   ]
  },
  {
   "cell_type": "code",
   "execution_count": null,
   "id": "717891dd",
   "metadata": {
    "ExecuteTime": {
     "end_time": "2023-08-08T16:55:13.824753Z",
     "start_time": "2023-08-08T16:55:06.367210Z"
    }
   },
   "outputs": [],
   "source": [
    "main(product_id = 100002781562, max_page=5, filename='umbrella_5p.csv')"
   ]
  },
  {
   "cell_type": "code",
   "execution_count": null,
   "id": "f78f8a0b",
   "metadata": {
    "ExecuteTime": {
     "end_time": "2023-08-08T16:55:38.340919Z",
     "start_time": "2023-08-08T16:55:20.677903Z"
    }
   },
   "outputs": [],
   "source": [
    "main(product_id = 1540112, max_page=10, filename='florida_10.csv')"
   ]
  },
  {
   "cell_type": "markdown",
   "id": "e46ad997",
   "metadata": {},
   "source": [
    "- 我们读取下刚才生成的文件"
   ]
  },
  {
   "cell_type": "code",
   "execution_count": null,
   "id": "680ef5b9",
   "metadata": {
    "ExecuteTime": {
     "end_time": "2023-08-08T16:55:45.359420Z",
     "start_time": "2023-08-08T16:55:44.784124Z"
    }
   },
   "outputs": [],
   "source": [
    "import pandas as pd"
   ]
  },
  {
   "cell_type": "code",
   "execution_count": null,
   "id": "c30dc1d9",
   "metadata": {
    "ExecuteTime": {
     "end_time": "2023-08-08T16:55:46.521991Z",
     "start_time": "2023-08-08T16:55:46.486686Z"
    }
   },
   "outputs": [],
   "source": [
    "pd_reader = pd.read_csv('florida_10.csv')\n",
    "pd_reader"
   ]
  },
  {
   "cell_type": "code",
   "execution_count": null,
   "id": "77ecca40",
   "metadata": {
    "ExecuteTime": {
     "end_time": "2023-08-08T16:55:48.858539Z",
     "start_time": "2023-08-08T16:55:48.852031Z"
    }
   },
   "outputs": [],
   "source": [
    "pd_reader.shape    # 查看行数，列数"
   ]
  },
  {
   "cell_type": "code",
   "execution_count": null,
   "id": "a3968074",
   "metadata": {
    "ExecuteTime": {
     "end_time": "2023-08-08T16:55:50.433573Z",
     "start_time": "2023-08-08T16:55:50.419609Z"
    }
   },
   "outputs": [],
   "source": [
    "pd_reader.head(10)    # 查看前几行信息，默认为5"
   ]
  },
  {
   "cell_type": "code",
   "execution_count": null,
   "id": "4ffaf11e",
   "metadata": {
    "ExecuteTime": {
     "end_time": "2023-08-08T16:55:53.027697Z",
     "start_time": "2023-08-08T16:55:53.014701Z"
    }
   },
   "outputs": [],
   "source": [
    "pd_reader.tail(8)    # 查看后几行信息，默认为5"
   ]
  },
  {
   "cell_type": "markdown",
   "id": "94487f6e",
   "metadata": {},
   "source": [
    "<center><big><b>END</b></big></center>"
   ]
  }
 ],
 "metadata": {
  "celltoolbar": "原始单元格格式",
  "hide_input": false,
  "kernelspec": {
   "display_name": "Python 3 (ipykernel)",
   "language": "python",
   "name": "python3"
  },
  "language_info": {
   "codemirror_mode": {
    "name": "ipython",
    "version": 3
   },
   "file_extension": ".py",
   "mimetype": "text/x-python",
   "name": "python",
   "nbconvert_exporter": "python",
   "pygments_lexer": "ipython3",
   "version": "3.10.1"
  },
  "toc": {
   "base_numbering": 1,
   "nav_menu": {},
   "number_sections": true,
   "sideBar": true,
   "skip_h1_title": false,
   "title_cell": "Table of Contents",
   "title_sidebar": "Contents",
   "toc_cell": false,
   "toc_position": {
    "height": "calc(100% - 180px)",
    "left": "10px",
    "top": "150px",
    "width": "181.825px"
   },
   "toc_section_display": true,
   "toc_window_display": false
  },
  "varInspector": {
   "cols": {
    "lenName": 16,
    "lenType": 16,
    "lenVar": 40
   },
   "kernels_config": {
    "python": {
     "delete_cmd_postfix": "",
     "delete_cmd_prefix": "del ",
     "library": "var_list.py",
     "varRefreshCmd": "print(var_dic_list())"
    },
    "r": {
     "delete_cmd_postfix": ") ",
     "delete_cmd_prefix": "rm(",
     "library": "var_list.r",
     "varRefreshCmd": "cat(var_dic_list()) "
    }
   },
   "types_to_exclude": [
    "module",
    "function",
    "builtin_function_or_method",
    "instance",
    "_Feature"
   ],
   "window_display": false
  }
 },
 "nbformat": 4,
 "nbformat_minor": 5
}
